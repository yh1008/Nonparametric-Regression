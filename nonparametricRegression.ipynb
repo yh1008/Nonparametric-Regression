{
 "cells": [
  {
   "cell_type": "markdown",
   "metadata": {},
   "source": [
    "### Nonparametric Regression "
   ]
  },
  {
   "cell_type": "markdown",
   "metadata": {},
   "source": [
    "#### Nonparametric Regression:"
   ]
  },
  {
   "cell_type": "markdown",
   "metadata": {},
   "source": [
    "What is a nonparametric model?\n",
    "\n",
    "- unlike linear regression, a nonparamtric model does not assume the conditional mean of y as a linear function of x; in fact, it does not assume any particular functional form to describe the relationship between $\\mathbb{E}(y)$ and $x$  \n",
    "\n",
    "for example, for the nonparametric model, we can write down the conditional mean of y as the following\n",
    "$$\n",
    "\\mathbb{E}[Y_i|X_i = x] = g_o(x)\n",
    "$$\n",
    "where $g_0$ is a twice differentiable function;   \n",
    "as opposed to \n",
    "the linear regression model, where we have  \n",
    "$$\n",
    "\\mathbb{E}[Y_i|X_i = x] = x'\\beta\n",
    "$$  \n",
    "\n",
    "--------------------------------------------------------------------------------"
   ]
  },
  {
   "cell_type": "markdown",
   "metadata": {},
   "source": [
    "How can we express this nonparametric model as a regression equation?  \n",
    "\n",
    "- $$ \n",
    "Y_i = g(X_i) + u_i, \\   \\mathbb{E}[u_i|X_i] = 0\n",
    "$$  \n",
    "\n",
    "-------------------------------------------------------------"
   ]
  },
  {
   "cell_type": "markdown",
   "metadata": {},
   "source": [
    "Why would we prefer using nonparametric regression instead of linear least square regression? \n",
    "\n",
    "- because the nonparametric approach does not restrict the conditional expectation function to be linear  \n",
    "\n",
    "---------------------------------------\n"
   ]
  },
  {
   "cell_type": "markdown",
   "metadata": {},
   "source": [
    "How about an demonstration of using nonparametric regression?\n",
    "\n",
    "- Yes, a classic example is by regression discontinuity design.  \n",
    "\n",
    "-----------------------------------"
   ]
  },
  {
   "cell_type": "markdown",
   "metadata": {},
   "source": [
    "#### Regression Discontinuity Design: "
   ]
  },
  {
   "cell_type": "markdown",
   "metadata": {},
   "source": [
    "What is this regression discontinuity design?\n",
    "\n",
    "- it estimates a causal treatment effect when treatment is given to part of the population whose some variable $X_i$ is greater than a threshold $\\bar{x}$, while the condition mean is still a smooth function of X.\n",
    "\n",
    "----------------------------------\n"
   ]
  },
  {
   "cell_type": "markdown",
   "metadata": {},
   "source": [
    "Why do we want to have this set-up?\n",
    "\n",
    "- the idea is that \"any discontinuities in the outcome at the boundary should be attributed to the treatment\", as it is the only thing that varies at that point. (p9)\n",
    "\n",
    "------------------"
   ]
  },
  {
   "cell_type": "markdown",
   "metadata": {},
   "source": [
    "What will be model under regression discontinuity design look like?\n",
    "\n",
    "- $$\n",
    "Y_i = \\mathbb{1}\\{X_i > \\bar{x}\\}\\beta + g(X_i) + \\epsilon_i\n",
    "$$  \n",
    "where g( . ) is an unknown continous function \n",
    "\n",
    "-------------------------\n"
   ]
  },
  {
   "cell_type": "markdown",
   "metadata": {},
   "source": [
    "How to estimate the treatment effect that we are interested?\n",
    "\n",
    "- $$\n",
    "\\beta = \\mu(\\bar{(x)}_{Y}^+ - \\mu(\\bar{(x)}_{Y}^-\n",
    "$$\n",
    "\n",
    "where\n",
    "\n",
    "$$\n",
    "\\mu(\\bar{x}_{Y}^+) := lim_{h->0}\\mathbb{E}[Y_i|\\bar{x} < X_i < \\bar{x} + h]\n",
    "$$  \n",
    "is conditional expectation of $Y$ on $X_i$ being above and infinitely close to threshold  $\\bar{x}$  \n",
    "\n",
    "and \n",
    "\n",
    "$$\n",
    "\\mu(\\bar{x}_{Y}^- ):= lim_{h->0}\\mathbb{E}[Y_i|\\bar{x} - h < X_i < \\bar{x}]\n",
    "$$  \n",
    "is conditional expectation of $Y$ on $X_i$ being below and infinitely close to threshold  $\\bar{x}$  \n",
    "\n",
    "-------------------------"
   ]
  },
  {
   "cell_type": "markdown",
   "metadata": {},
   "source": [
    "How should we get the conditional expectation at the discontinuity then? \n",
    "\n",
    "- in general, people uses local linear regression at the boundary using a **Gaussian kernel and bandwidth**\n",
    "\n",
    "----------------\n"
   ]
  },
  {
   "cell_type": "markdown",
   "metadata": {},
   "source": [
    "How about an example that uses the regression discontinuity design and the nonparametric regression?\n",
    "\n",
    "-  let's look at the incumbency effect\n",
    "\n",
    "--------------------"
   ]
  },
  {
   "cell_type": "markdown",
   "metadata": {},
   "source": [
    "#### Incumbency Effect: "
   ]
  },
  {
   "cell_type": "markdown",
   "metadata": {},
   "source": [
    "What is an \"incumbency effect\"?\n",
    "\n",
    "- in political economy of congressional elections, there is an theory that says an incumbent in an given district is more likely to win the next  election"
   ]
  },
  {
   "cell_type": "markdown",
   "metadata": {},
   "source": [
    "Given the data set **individ_final.dta**, what should the model look like?\n",
    "\n",
    "- $$\n",
    "myoutcomenext_i = \\alpha + \\beta incumbent_i + g(disshare_i) + \\mu_i\n",
    "$$"
   ]
  },
  {
   "cell_type": "markdown",
   "metadata": {},
   "source": [
    "-------------------\n",
    "\n",
    "Stata code\n",
    "\n",
    "```\n",
    "clear\n",
    "set mem 120m\n",
    "set more off\n",
    "use individ_final\n",
    "\n",
    "#delimit;\n",
    "\n",
    "/*step (a), generate variable incumbent = 1 if the candidate won the previous election based on difshare*/\n",
    "\n",
    "generate incumbent = 1 if difshare > 0;\n",
    "replace incumbent = 0 if difshare <= 0;\n",
    "regress myoutcomenext incumbent;\n",
    "\n",
    "\n",
    "/*step (b), run seperate local linear regression for subsamples difshare > 0 and difshare < 0, respectively using Gaussian kernal and bandwidth (stata command lpoly). Use the option degree(!) for the local linear regression, and at(neg_grid) to estimate the function at the grid of values for difshare generated by the following three lines of code*/\n",
    "\n",
    "gen share_grid = _n/50-1 in 1/100;\n",
    "gen pos_grid = share_grid if share_grid >= 0;\n",
    "gen neg_grid = share_grid if share_grid <= 0;\n",
    "\n",
    "lpoly myoutcomenext difshare if difshare < 0, degree (1) kernel(gaussian) bwidth(0.05) at(neg_grid) generate(neg_fit);\n",
    "lpoly myoutcomenext difshare if difshare > 0, degree (1) kernel(gaussian) bwidth(0.05) at(pos_grid) generate(pos_fit);\n",
    "\n",
    "/*step (c), plot neg_fit, pos_fit on the same graph*/\n",
    "\n",
    "graph twoway line neg_fit pos_fit share_grid;\n",
    "\n",
    "#delimit cr\n",
    "```"
   ]
  },
  {
   "cell_type": "markdown",
   "metadata": {},
   "source": [
    "-------------------\n",
    "plotted graph: "
   ]
  },
  {
   "cell_type": "code",
   "execution_count": 2,
   "metadata": {
    "collapsed": false
   },
   "outputs": [
    {
     "data": {
      "image/png": "[encoded data removed]",
      "text/plain": [
       "<IPython.core.display.Image object>"
      ]
     },
     "execution_count": 2,
     "metadata": {},
     "output_type": "execute_result"
    }
   ],
   "source": [
    "from IPython.display import Image\n",
    "Image(\"./local_linear_regression.png\")"
   ]
  },
  {
   "cell_type": "markdown",
   "metadata": {},
   "source": [
    "this gap is the estimated incumbency effect! \n",
    "\n",
    "------------------"
   ]
  },
  {
   "cell_type": "markdown",
   "metadata": {},
   "source": [
    "*Reference: Professor Konrad Menzel(NYU)'s Lecture Notes on Nonparametric Estimation*\n",
    "\n",
    "https://newclasses.nyu.edu/access/content/group/15a62ccf-c81c-4aed-ad04-4db7274af69a/nonparametrics_notes.pdf"
   ]
  }
 ],
 "metadata": {
  "kernelspec": {
   "display_name": "Python 3",
   "language": "python",
   "name": "python3"
  },
  "language_info": {
   "codemirror_mode": {
    "name": "ipython",
    "version": 3
   },
   "file_extension": ".py",
   "mimetype": "text/x-python",
   "name": "python",
   "nbconvert_exporter": "python",
   "pygments_lexer": "ipython3",
   "version": "3.5.1"
  }
 },
 "nbformat": 4,
 "nbformat_minor": 0
}
